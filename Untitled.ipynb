{
 "cells": [
  {
   "cell_type": "code",
   "execution_count": 1,
   "id": "4d20592f-1770-4abd-97ed-fdf24ecce666",
   "metadata": {},
   "outputs": [
    {
     "name": "stdout",
     "output_type": "stream",
     "text": [
      "[[0.00000000e+00 2.13148674e+06 8.27107014e+05 ... 1.85155369e+03\n",
      "  7.72092076e+03 2.18802793e+03]\n",
      " [2.13148674e+06 0.00000000e+00 1.96734560e+06 ... 1.39465012e+03\n",
      "  5.77590031e+03 1.65699137e+03]\n",
      " [8.27107014e+05 1.96734560e+06 0.00000000e+00 ... 2.83126094e+03\n",
      "  1.16217313e+04 3.38819727e+03]\n",
      " ...\n",
      " [1.85155369e+03 1.39465012e+03 2.83126094e+03 ... 0.00000000e+00\n",
      "  3.23523818e+05 2.18490868e+05]\n",
      " [7.72092076e+03 5.77590031e+03 1.16217313e+04 ... 3.23523818e+05\n",
      "  0.00000000e+00 1.41100104e+05]\n",
      " [2.18802793e+03 1.65699137e+03 3.38819727e+03 ... 2.18490868e+05\n",
      "  1.41100104e+05 0.00000000e+00]]\n"
     ]
    }
   ],
   "source": [
    "import pandas as pd\n",
    "import numpy as np\n",
    "\n",
    "def read_tabel(file_path):\n",
    "    return pd.read_csv(file_path,encoding='utf-8')\n",
    "\n",
    "df=read_tabel('E:\\GIS开发实习材料\\实习1\\hebei.gdb\\TemData.csv')#读取生成的表\n",
    "coordinates=df[['POINT_X','POINT_Y','GDP']].values#获取关键数值\n",
    "attractive_matrix=np.zeros((len(coordinates),len(coordinates)))#初始化吸引力零矩阵\n",
    "for i in range(len(coordinates)):\n",
    "    for j in range(len(coordinates)):\n",
    "        if i!=j:\n",
    "            attractive_matrix[i,j]=coordinates[i,2]*coordinates[j,2]/(coordinates[i,0]-coordinates[j,0])**2+(coordinates[i,1]-coordinates[j,1])**2#计算吸引力\n",
    "attractive_df=pd.DataFrame(attractive_matrix)\n",
    "attractive_max_index=[]#创建索引列表\n",
    "attractive_max_num=[]#创建最大吸引力列表\n",
    "print(attractive_matrix)\n",
    "for i in range(len(coordinates)):\n",
    "    attractive_max_index.append(np.argmax(attractive_matrix[i,:]))\n",
    "    attractive_max_num.append(np.max(attractive_matrix[i,:]))\n",
    "\n",
    "newTable=pd.DataFrame(index=range(len(coordinates)),columns=[\"POINT\",\"START_POINT\",\"END_POINT\",\"ATTRACTION\",\"START_X\",\"START_Y\",\"END_X\",\"END_Y\"])\n",
    "for i in range(len(coordinates)):\n",
    "    newTable.iloc[i][\"POINT\"]=df.loc[i,\"Name\"]\n",
    "    if(df.loc[i,\"GDP\"]<df.loc[attractive_max_index[i],\"GDP\"]):\n",
    "        newTable.loc[i,\"START_POINT\"]=df.loc[i,\"Name\"]\n",
    "        newTable.loc[i,\"END_POINT\"]=df.loc[attractive_max_index[i],\"Name\"]\n",
    "        newTable.loc[i,\"ATTRACTION\"]=attractive_max_num[i]\n",
    "        newTable.loc[i,\"START_X\"]=coordinates[i,0]\n",
    "        newTable.loc[i,\"START_Y\"]=coordinates[i,1]\n",
    "        newTable.loc[i,\"END_X\"]=coordinates[attractive_max_index[i],0]\n",
    "        newTable.loc[i,\"END_Y\"]=coordinates[attractive_max_index[i],1]\n",
    "    else:\n",
    "        newTable.loc[i,\"START_POINT\"]=df.loc[attractive_max_index[i],\"Name\"]\n",
    "        newTable.loc[i,\"END_POINT\"]=df.loc[i,\"Name\"]\n",
    "        newTable.loc[i,\"ATTRACTION\"]=attractive_max_num[i]\n",
    "        newTable.loc[i,\"START_X\"]=coordinates[attractive_max_index[i],0]\n",
    "        newTable.loc[i,\"START_Y\"]=coordinates[attractive_max_index[i],1]\n",
    "        newTable.loc[i,\"END_X\"]=coordinates[i,0]\n",
    "        newTable.loc[i,\"END_Y\"]=coordinates[i,1]\n",
    "newTable.to_csv(r\"E:\\GIS开发实习材料\\实习1\\testtable_processed1.csv\",encoding='utf-8',index=False)"
   ]
  },
  {
   "cell_type": "code",
   "execution_count": 3,
   "id": "d118e712-327a-4a95-8bb8-3a23cf64cb36",
   "metadata": {},
   "outputs": [
    {
     "data": {
      "text/plain": [
       "'桥西区'"
      ]
     },
     "execution_count": 3,
     "metadata": {},
     "output_type": "execute_result"
    }
   ],
   "source": [
    "df.loc[99,\"Name\"]"
   ]
  },
  {
   "cell_type": "code",
   "execution_count": null,
   "id": "cedf4c32-9bf3-43a8-9709-b243b42ff4b3",
   "metadata": {},
   "outputs": [],
   "source": []
  }
 ],
 "metadata": {
  "kernelspec": {
   "display_name": "Python 3 (ipykernel)",
   "language": "python",
   "name": "python3"
  },
  "language_info": {
   "codemirror_mode": {
    "name": "ipython",
    "version": 3
   },
   "file_extension": ".py",
   "mimetype": "text/x-python",
   "name": "python",
   "nbconvert_exporter": "python",
   "pygments_lexer": "ipython3",
   "version": "3.11.3"
  }
 },
 "nbformat": 4,
 "nbformat_minor": 5
}
